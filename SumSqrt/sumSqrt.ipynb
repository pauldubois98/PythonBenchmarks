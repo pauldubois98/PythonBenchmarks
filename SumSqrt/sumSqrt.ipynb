{
 "cells": [
  {
   "cell_type": "code",
   "execution_count": null,
   "metadata": {},
   "outputs": [],
   "source": [
    "import numpy as np\n",
    "import timeit\n",
    "import os\n",
    "import ctypes\n",
    "import numba as nb\n",
    "import math\n"
   ]
  },
  {
   "cell_type": "code",
   "execution_count": null,
   "metadata": {},
   "outputs": [],
   "source": [
    "np.random.seed(0)\n",
    "x = np.random.randint(0, 2147483646, 20, dtype=np.int32)\n",
    "x"
   ]
  },
  {
   "cell_type": "code",
   "execution_count": null,
   "metadata": {},
   "outputs": [],
   "source": [
    "all_mehods = []"
   ]
  },
  {
   "cell_type": "code",
   "execution_count": null,
   "metadata": {},
   "outputs": [],
   "source": [
    "def sumSqrtPurePython(x):\n",
    "    sum = 0\n",
    "    for e in x:\n",
    "        sum += e ** 0.5\n",
    "    return sum\n",
    "\n",
    "all_mehods.append({\n",
    "    'method': 'Pure Python',\n",
    "    'func': sumSqrtPurePython,\n",
    "    'times': []\n",
    "})\n",
    "\n",
    "# quick test:\n",
    "sumSqrtPurePython(x)"
   ]
  },
  {
   "cell_type": "code",
   "execution_count": null,
   "metadata": {},
   "outputs": [],
   "source": [
    "def sumSqrtMath(x):\n",
    "    sum = 0\n",
    "    for e in x:\n",
    "        sum += math.sqrt(e)\n",
    "    return sum\n",
    "\n",
    "all_mehods.append({\n",
    "    'method': 'Math Module',\n",
    "    'func': sumSqrtMath,\n",
    "    'times': []\n",
    "})\n",
    "\n",
    "# quick test:\n",
    "sumSqrtMath(x)"
   ]
  },
  {
   "cell_type": "code",
   "execution_count": null,
   "metadata": {},
   "outputs": [],
   "source": [
    "def sumSqrtNumpy(x):\n",
    "    return np.sum(np.sqrt(x))\n",
    "\n",
    "all_mehods.append({\n",
    "    'method': 'Numpy',\n",
    "    'func': sumSqrtNumpy,\n",
    "    'times': []\n",
    "})\n",
    "\n",
    "# quick test:\n",
    "sumSqrtNumpy(x)"
   ]
  },
  {
   "cell_type": "code",
   "execution_count": null,
   "metadata": {},
   "outputs": [],
   "source": [
    "@nb.njit(parallel=True)\n",
    "def numba_parallel(x):\n",
    "    n = len(x)\n",
    "    sum = 0\n",
    "    for i in nb.prange(n):\n",
    "        sum += x[i] ** 0.5\n",
    "    return sum\n",
    "\n",
    "all_mehods.append({\n",
    "    'method': 'Numba parallel',\n",
    "    'func': numba_parallel,\n",
    "    'times': []\n",
    "})\n",
    "\n",
    "# quick test:\n",
    "numba_parallel(x)"
   ]
  },
  {
   "cell_type": "code",
   "execution_count": null,
   "metadata": {},
   "outputs": [],
   "source": []
  }
 ],
 "metadata": {
  "kernelspec": {
   "display_name": "Python 3",
   "language": "python",
   "name": "python3"
  },
  "language_info": {
   "codemirror_mode": {
    "name": "ipython",
    "version": 3
   },
   "file_extension": ".py",
   "mimetype": "text/x-python",
   "name": "python",
   "nbconvert_exporter": "python",
   "pygments_lexer": "ipython3",
   "version": "3.11.4"
  },
  "orig_nbformat": 4
 },
 "nbformat": 4,
 "nbformat_minor": 2
}
