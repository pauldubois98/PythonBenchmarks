{
 "cells": [
  {
   "cell_type": "code",
   "execution_count": 1,
   "metadata": {},
   "outputs": [],
   "source": [
    "import numpy as np\n",
    "import timeit\n",
    "import os\n",
    "import ctypes\n",
    "import numba\n",
    "import math\n"
   ]
  },
  {
   "cell_type": "code",
   "execution_count": 2,
   "metadata": {},
   "outputs": [
    {
     "data": {
      "text/plain": [
       "array([ 209652396,  398764591,  924231285, 1478610112,  441365315,\n",
       "       1537364731,  192771779, 1491434855, 1819583497,  530702035,\n",
       "        626610453, 1650906866, 1879422756, 1277901399, 1682652230,\n",
       "        243580376, 1991416408, 1171049868, 1646868794, 2051556033])"
      ]
     },
     "execution_count": 2,
     "metadata": {},
     "output_type": "execute_result"
    }
   ],
   "source": [
    "np.random.seed(0)\n",
    "x = np.random.randint(0, 2147483646, 20, dtype=np.int32)\n",
    "x"
   ]
  },
  {
   "cell_type": "code",
   "execution_count": 3,
   "metadata": {},
   "outputs": [],
   "source": [
    "all_mehods = []"
   ]
  },
  {
   "cell_type": "code",
   "execution_count": 4,
   "metadata": {},
   "outputs": [
    {
     "data": {
      "text/plain": [
       "647829.590943377"
      ]
     },
     "execution_count": 4,
     "metadata": {},
     "output_type": "execute_result"
    }
   ],
   "source": [
    "def sumSqrtPurePython(x):\n",
    "    sum = 0\n",
    "    for e in x:\n",
    "        sum += e ** 0.5\n",
    "    return sum\n",
    "\n",
    "all_mehods.append({\n",
    "    'method': 'Pure Python',\n",
    "    'func': sumSqrtPurePython,\n",
    "    'times': []\n",
    "})\n",
    "\n",
    "# quick test:\n",
    "sumSqrtPurePython(x)"
   ]
  }
 ],
 "metadata": {
  "kernelspec": {
   "display_name": "Python 3",
   "language": "python",
   "name": "python3"
  },
  "language_info": {
   "codemirror_mode": {
    "name": "ipython",
    "version": 3
   },
   "file_extension": ".py",
   "mimetype": "text/x-python",
   "name": "python",
   "nbconvert_exporter": "python",
   "pygments_lexer": "ipython3",
   "version": "3.11.4"
  },
  "orig_nbformat": 4
 },
 "nbformat": 4,
 "nbformat_minor": 2
}
