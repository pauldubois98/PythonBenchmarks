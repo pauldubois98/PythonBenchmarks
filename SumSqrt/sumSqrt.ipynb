{
 "cells": [
  {
   "cell_type": "code",
   "execution_count": 1,
   "metadata": {},
   "outputs": [],
   "source": [
    "import numpy as np\n",
    "import timeit\n",
    "import os\n",
    "import ctypes\n",
    "import numba as nb\n",
    "import math\n"
   ]
  },
  {
   "cell_type": "code",
   "execution_count": 2,
   "metadata": {},
   "outputs": [
    {
     "data": {
      "text/plain": [
       "array([ 209652396,  398764591,  924231285, 1478610112,  441365315,\n",
       "       1537364731,  192771779, 1491434855, 1819583497,  530702035,\n",
       "        626610453, 1650906866, 1879422756, 1277901399, 1682652230,\n",
       "        243580376, 1991416408, 1171049868, 1646868794, 2051556033])"
      ]
     },
     "execution_count": 2,
     "metadata": {},
     "output_type": "execute_result"
    }
   ],
   "source": [
    "np.random.seed(0)\n",
    "x = np.random.randint(0, 2147483646, 20, dtype=np.int32)\n",
    "x"
   ]
  },
  {
   "cell_type": "code",
   "execution_count": 3,
   "metadata": {},
   "outputs": [],
   "source": [
    "all_mehods = []"
   ]
  },
  {
   "cell_type": "code",
   "execution_count": 4,
   "metadata": {},
   "outputs": [
    {
     "data": {
      "text/plain": [
       "647829.590943377"
      ]
     },
     "execution_count": 4,
     "metadata": {},
     "output_type": "execute_result"
    }
   ],
   "source": [
    "def sumSqrtPurePython(x):\n",
    "    sum = 0\n",
    "    for e in x:\n",
    "        sum += e ** 0.5\n",
    "    return sum\n",
    "\n",
    "all_mehods.append({\n",
    "    'method': 'Pure Python',\n",
    "    'func': sumSqrtPurePython,\n",
    "    'times': []\n",
    "})\n",
    "\n",
    "# quick test:\n",
    "sumSqrtPurePython(x)"
   ]
  },
  {
   "cell_type": "code",
   "execution_count": 5,
   "metadata": {},
   "outputs": [
    {
     "data": {
      "text/plain": [
       "647829.590943377"
      ]
     },
     "execution_count": 5,
     "metadata": {},
     "output_type": "execute_result"
    }
   ],
   "source": [
    "def sumSqrtMath(x):\n",
    "    sum = 0\n",
    "    for e in x:\n",
    "        sum += math.sqrt(e)\n",
    "    return sum\n",
    "\n",
    "all_mehods.append({\n",
    "    'method': 'Math Module',\n",
    "    'func': sumSqrtMath,\n",
    "    'times': []\n",
    "})\n",
    "\n",
    "# quick test:\n",
    "sumSqrtMath(x)"
   ]
  },
  {
   "cell_type": "code",
   "execution_count": 6,
   "metadata": {},
   "outputs": [
    {
     "data": {
      "text/plain": [
       "647829.5909433769"
      ]
     },
     "execution_count": 6,
     "metadata": {},
     "output_type": "execute_result"
    }
   ],
   "source": [
    "def sumSqrtNumpy(x):\n",
    "    return np.sum(np.sqrt(x))\n",
    "\n",
    "all_mehods.append({\n",
    "    'method': 'Numpy',\n",
    "    'func': sumSqrtNumpy,\n",
    "    'times': []\n",
    "})\n",
    "\n",
    "# quick test:\n",
    "sumSqrtNumpy(x)"
   ]
  },
  {
   "cell_type": "code",
   "execution_count": 7,
   "metadata": {},
   "outputs": [
    {
     "data": {
      "text/plain": [
       "647829.590943377"
      ]
     },
     "execution_count": 7,
     "metadata": {},
     "output_type": "execute_result"
    }
   ],
   "source": [
    "@nb.njit(parallel=True)\n",
    "def sumSqrtNumbaParallel(x):\n",
    "    n = len(x)\n",
    "    sum = 0\n",
    "    for i in nb.prange(n):\n",
    "        sum += x[i] ** 0.5\n",
    "    return sum\n",
    "\n",
    "all_mehods.append({\n",
    "    'method': 'Numba parallel',\n",
    "    'func': sumSqrtNumbaParallel,\n",
    "    'times': []\n",
    "})\n",
    "\n",
    "# quick test:\n",
    "sumSqrtNumbaParallel(x)"
   ]
  },
  {
   "cell_type": "code",
   "execution_count": 8,
   "metadata": {},
   "outputs": [
    {
     "data": {
      "text/plain": [
       "647829.590943377"
      ]
     },
     "execution_count": 8,
     "metadata": {},
     "output_type": "execute_result"
    }
   ],
   "source": [
    "@nb.njit\n",
    "def sumSqrtNumba(x):\n",
    "    n = len(x)\n",
    "    sum = 0\n",
    "    for i in range(n):\n",
    "        sum += x[i] ** 0.5\n",
    "    return sum\n",
    "\n",
    "all_mehods.append({\n",
    "    'method': 'Numba',\n",
    "    'func': sumSqrtNumba,\n",
    "    'times': []\n",
    "})\n",
    "\n",
    "# quick test:\n",
    "sumSqrtNumba(x)"
   ]
  },
  {
   "cell_type": "code",
   "execution_count": 9,
   "metadata": {},
   "outputs": [
    {
     "name": "stdout",
     "output_type": "stream",
     "text": [
      "Compilation times:\n",
      "-O0: 0.254 s\n",
      "-O1: 0.272 s\n",
      "-O2: 0.540 s\n",
      "-O3: 0.261 s\n",
      "-Os: 0.265 s\n",
      "-Ofast: 0.255 s\n",
      "-Og: 0.266 s\n",
      "-Oz: 0.262 s\n"
     ]
    },
    {
     "data": {
      "text/plain": [
       "647829.590943377"
      ]
     },
     "execution_count": 9,
     "metadata": {},
     "output_type": "execute_result"
    }
   ],
   "source": [
    "# compiled functions\n",
    "gcc_path = \"C:\\\\__APP__\\\\mingw64\\\\bin\\\\gcc\"\n",
    "current_path = os.getcwd()\n",
    "\n",
    "options = ['-O0', '-O1', '-O2', '-O3', '-Os', '-Ofast', '-Og', '-Oz']\n",
    "sum_sqrt_libs = []\n",
    "names = []\n",
    "\n",
    "compilation_times = {}\n",
    "for opt in options:\n",
    "    t = timeit.timeit(lambda: os.system(f'{gcc_path} -shared {opt} -o sumSqrt{opt}.so sumSqrt.c'), number=1)\n",
    "    if t<0.5:\n",
    "        repeat = int(0.5/t)+1\n",
    "        final_t = timeit.timeit(lambda: os.system(f'{gcc_path} -shared {opt} -o sumSqrt{opt}.so sumSqrt.c'), number=repeat)/repeat\n",
    "    else:\n",
    "        repeat = 1\n",
    "        final_t = t\n",
    "    compilation_times[opt] = final_t\n",
    "    \n",
    "    os.system(f'{gcc_path} -shared {opt} -o sumSqrt{opt}.so sumSqrt.c')\n",
    "    lib = ctypes.cdll.LoadLibrary(os.path.join(current_path, f'sumSqrt{opt}.so'))\n",
    "    lib.sumSqrtC.argtypes = (ctypes.POINTER(ctypes.c_int), ctypes.c_int)\n",
    "    lib.sumSqrtC.restype = ctypes.c_double\n",
    "    sum_sqrt_libs.append(lib)\n",
    "    names.append(f'compiled{opt}')\n",
    "\n",
    "\n",
    "def np_to_c(arr: np.ndarray) -> tuple[ctypes.POINTER(ctypes.c_int), ctypes.c_int]:\n",
    "    return arr.ctypes.data_as(ctypes.POINTER(ctypes.c_int)), ctypes.c_int(len(arr))\n",
    "\n",
    "def sumSqrtC(x, lib):\n",
    "    return lib.sumSqrtC(*np_to_c(x))\n",
    "\n",
    "all_mehods.append({\n",
    "    'method': 'C -O0',\n",
    "    'func': lambda x: sumSqrtC(x, lib=sum_sqrt_libs[0]),\n",
    "    'times': []\n",
    "})\n",
    "all_mehods.append({\n",
    "    'method': 'C -O1',\n",
    "    'func': lambda x: sumSqrtC(x, lib=sum_sqrt_libs[1]),\n",
    "    'times': []\n",
    "})\n",
    "all_mehods.append({\n",
    "    'method': 'C -O2',\n",
    "    'func': lambda x: sumSqrtC(x, lib=sum_sqrt_libs[2]),\n",
    "    'times': []\n",
    "})\n",
    "all_mehods.append({\n",
    "    'method': 'C -O3',\n",
    "    'func': lambda x: sumSqrtC(x, lib=sum_sqrt_libs[3]),\n",
    "    'times': []\n",
    "})\n",
    "all_mehods.append({\n",
    "    'method': 'C -Os',\n",
    "    'func': lambda x: sumSqrtC(x, lib=sum_sqrt_libs[4]),\n",
    "    'times': []\n",
    "})\n",
    "all_mehods.append({\n",
    "    'method': 'C -Ofast',\n",
    "    'func': lambda x: sumSqrtC(x, lib=sum_sqrt_libs[5]),\n",
    "    'times': []\n",
    "})\n",
    "all_mehods.append({\n",
    "    'method': 'C -Og',\n",
    "    'func': lambda x: sumSqrtC(x, lib=sum_sqrt_libs[6]),\n",
    "    'times': []\n",
    "})\n",
    "all_mehods.append({\n",
    "    'method': 'C -Oz',\n",
    "    'func': lambda x: sumSqrtC(x, lib=sum_sqrt_libs[7]),\n",
    "    'times': []\n",
    "})\n",
    "\n",
    "print('Compilation times:')\n",
    "for opt, t in compilation_times.items():\n",
    "    print(f'{opt}: {t:.3f} s')\n",
    "\n",
    "# quick test:\n",
    "sumSqrtC(x, lib=sum_sqrt_libs[0])"
   ]
  },
  {
   "cell_type": "code",
   "execution_count": 10,
   "metadata": {},
   "outputs": [
    {
     "data": {
      "text/plain": [
       "647829.5909433769"
      ]
     },
     "execution_count": 10,
     "metadata": {},
     "output_type": "execute_result"
    }
   ],
   "source": [
    "os.system('python setup.py build_ext --inplace')\n",
    "\n",
    "import sumSqrtCython\n",
    "\n",
    "all_mehods.append({\n",
    "    'method': 'Cython',\n",
    "    'func': sumSqrtCython.sumSqrtCython,\n",
    "    'times': []\n",
    "})\n",
    "\n",
    "# quick test:\n",
    "sumSqrtCython.sumSqrtCython(x)"
   ]
  },
  {
   "cell_type": "code",
   "execution_count": 11,
   "metadata": {},
   "outputs": [
    {
     "data": {
      "text/plain": [
       "[{'method': 'Pure Python',\n",
       "  'func': <function __main__.sumSqrtPurePython(x)>,\n",
       "  'times': []},\n",
       " {'method': 'Math Module',\n",
       "  'func': <function __main__.sumSqrtMath(x)>,\n",
       "  'times': []},\n",
       " {'method': 'Numpy', 'func': <function __main__.sumSqrtNumpy(x)>, 'times': []},\n",
       " {'method': 'Numba parallel',\n",
       "  'func': CPUDispatcher(<function sumSqrtNumbaParallel at 0x000002B1CB7F4360>),\n",
       "  'times': []},\n",
       " {'method': 'Numba',\n",
       "  'func': CPUDispatcher(<function sumSqrtNumba at 0x000002B1CB7F45E0>),\n",
       "  'times': []},\n",
       " {'method': 'C -O0', 'func': <function __main__.<lambda>(x)>, 'times': []},\n",
       " {'method': 'C -O1', 'func': <function __main__.<lambda>(x)>, 'times': []},\n",
       " {'method': 'C -O2', 'func': <function __main__.<lambda>(x)>, 'times': []},\n",
       " {'method': 'C -O3', 'func': <function __main__.<lambda>(x)>, 'times': []},\n",
       " {'method': 'C -Os', 'func': <function __main__.<lambda>(x)>, 'times': []},\n",
       " {'method': 'C -Ofast', 'func': <function __main__.<lambda>(x)>, 'times': []},\n",
       " {'method': 'C -Og', 'func': <function __main__.<lambda>(x)>, 'times': []},\n",
       " {'method': 'C -Oz', 'func': <function __main__.<lambda>(x)>, 'times': []},\n",
       " {'method': 'Cython',\n",
       "  'func': <cyfunction sumSqrtCython at 0x000002B1DB5CF030>,\n",
       "  'times': []}]"
      ]
     },
     "execution_count": 11,
     "metadata": {},
     "output_type": "execute_result"
    }
   ],
   "source": [
    "all_mehods"
   ]
  },
  {
   "cell_type": "code",
   "execution_count": 12,
   "metadata": {},
   "outputs": [
    {
     "name": "stdout",
     "output_type": "stream",
     "text": [
      "49.5 µs ± 4.3 µs per loop (mean ± std. dev. of 7 runs, 10,000 loops each)\n"
     ]
    }
   ],
   "source": [
    "%%timeit\n",
    "sumSqrtPurePython(x)"
   ]
  },
  {
   "cell_type": "code",
   "execution_count": 13,
   "metadata": {},
   "outputs": [
    {
     "name": "stdout",
     "output_type": "stream",
     "text": [
      "6 µs ± 847 ns per loop (mean ± std. dev. of 7 runs, 100,000 loops each)\n"
     ]
    }
   ],
   "source": [
    "%%timeit\n",
    "sumSqrtMath(x)"
   ]
  },
  {
   "cell_type": "code",
   "execution_count": 14,
   "metadata": {},
   "outputs": [
    {
     "name": "stdout",
     "output_type": "stream",
     "text": [
      "6.98 µs ± 921 ns per loop (mean ± std. dev. of 7 runs, 100,000 loops each)\n"
     ]
    }
   ],
   "source": [
    "%%timeit\n",
    "sumSqrtNumpy(x)"
   ]
  },
  {
   "cell_type": "code",
   "execution_count": 15,
   "metadata": {},
   "outputs": [
    {
     "name": "stdout",
     "output_type": "stream",
     "text": [
      "5.62 µs ± 565 ns per loop (mean ± std. dev. of 7 runs, 100,000 loops each)\n"
     ]
    }
   ],
   "source": [
    "%%timeit\n",
    "sumSqrtC(x, lib=sum_sqrt_libs[0])"
   ]
  },
  {
   "cell_type": "code",
   "execution_count": 16,
   "metadata": {},
   "outputs": [
    {
     "name": "stdout",
     "output_type": "stream",
     "text": [
      "4.99 µs ± 352 ns per loop (mean ± std. dev. of 7 runs, 100,000 loops each)\n"
     ]
    }
   ],
   "source": [
    "%%timeit\n",
    "sumSqrtC(x, lib=sum_sqrt_libs[1])"
   ]
  },
  {
   "cell_type": "code",
   "execution_count": 17,
   "metadata": {},
   "outputs": [
    {
     "name": "stdout",
     "output_type": "stream",
     "text": [
      "11.7 µs ± 908 ns per loop (mean ± std. dev. of 7 runs, 10,000 loops each)\n"
     ]
    }
   ],
   "source": [
    "%%timeit\n",
    "sumSqrtCython.sumSqrtCython(x)"
   ]
  },
  {
   "cell_type": "code",
   "execution_count": 18,
   "metadata": {},
   "outputs": [
    {
     "name": "stdout",
     "output_type": "stream",
     "text": [
      "426 ns ± 12.3 ns per loop (mean ± std. dev. of 7 runs, 1,000,000 loops each)\n"
     ]
    }
   ],
   "source": [
    "%%timeit\n",
    "sumSqrtNumba(x)"
   ]
  },
  {
   "cell_type": "code",
   "execution_count": 19,
   "metadata": {},
   "outputs": [
    {
     "name": "stdout",
     "output_type": "stream",
     "text": [
      "18.1 µs ± 1.51 µs per loop (mean ± std. dev. of 7 runs, 100,000 loops each)\n"
     ]
    }
   ],
   "source": [
    "%%timeit\n",
    "sumSqrtNumbaParallel(x)"
   ]
  },
  {
   "cell_type": "code",
   "execution_count": 20,
   "metadata": {},
   "outputs": [
    {
     "name": "stdout",
     "output_type": "stream",
     "text": [
      "Speed tests:\n",
      "Taille 10^1:\n",
      "\tPure Python: 0.0000318s (repeats: 7279)\n",
      "\tMath Module: 0.0000041s (repeats: 41667)\n",
      "\tNumpy: 0.0000070s (repeats: 10331)\n",
      "\tNumba parallel: 0.0000174s (repeats: 1311)\n",
      "\tNumba: 0.0000011s (repeats: 70424)\n",
      "\tC -O0: 0.0000058s (repeats: 8117)\n",
      "\tC -O1: 0.0000042s (repeats: 21368)\n",
      "\tC -O2: 0.0000049s (repeats: 14327)\n",
      "\tC -O3: 0.0000048s (repeats: 20081)\n",
      "\tC -Os: 0.0000053s (repeats: 11186)\n",
      "\tC -Ofast: 0.0000048s (repeats: 15385)\n",
      "\tC -Og: 0.0000046s (repeats: 18249)\n",
      "\tC -Oz: 0.0000051s (repeats: 16287)\n",
      "\tCython: 0.0000117s (repeats: 7397)\n",
      "Taille 10^2:\n",
      "\tPure Python: 0.0002157s (repeats: 2243)\n",
      "\tMath Module: 0.0000205s (repeats: 20081)\n",
      "\tNumpy: 0.0000062s (repeats: 8475)\n",
      "\tNumba parallel: 0.0000160s (repeats: 6143)\n",
      "\tNumba: 0.0000011s (repeats: 106383)\n",
      "\tC -O0: 0.0000063s (repeats: 13737)\n",
      "\tC -O1: 0.0000052s (repeats: 16557)\n",
      "\tC -O2: 0.0000049s (repeats: 17544)\n",
      "\tC -O3: 0.0000048s (repeats: 16026)\n",
      "\tC -Os: 0.0000072s (repeats: 17858)\n",
      "\tC -Ofast: 0.0000054s (repeats: 17483)\n",
      "\tC -Og: 0.0000055s (repeats: 12020)\n",
      "\tC -Oz: 0.0000066s (repeats: 13263)\n",
      "\tCython: 0.0000115s (repeats: 7519)\n",
      "Taille 10^3:\n",
      "\tPure Python: 0.0021800s (repeats: 255)\n",
      "\tMath Module: 0.0002274s (repeats: 2450)\n",
      "\tNumpy: 0.0000101s (repeats: 9488)\n",
      "\tNumba parallel: 0.0000162s (repeats: 6298)\n",
      "\tNumba: 0.0000034s (repeats: 54946)\n",
      "\tC -O0: 0.0000204s (repeats: 9091)\n",
      "\tC -O1: 0.0000080s (repeats: 12854)\n",
      "\tC -O2: 0.0000071s (repeats: 15198)\n",
      "\tC -O3: 0.0000072s (repeats: 16340)\n",
      "\tC -Os: 0.0000230s (repeats: 9653)\n",
      "\tC -Ofast: 0.0000059s (repeats: 17986)\n",
      "\tC -Og: 0.0000174s (repeats: 10870)\n",
      "\tC -Oz: 0.0000229s (repeats: 11014)\n",
      "\tCython: 0.0000156s (repeats: 7154)\n",
      "Taille 10^4:\n",
      "\tPure Python: 0.0243999s (repeats: 23)\n",
      "\tMath Module: 0.0021694s (repeats: 280)\n",
      "\tNumpy: 0.0000312s (repeats: 1474)\n",
      "\tNumba parallel: 0.0000234s (repeats: 7740)\n",
      "\tNumba: 0.0000234s (repeats: 19231)\n",
      "\tC -O0: 0.0001577s (repeats: 2587)\n",
      "\tC -O1: 0.0000267s (repeats: 11338)\n",
      "\tC -O2: 0.0000283s (repeats: 1760)\n",
      "\tC -O3: 0.0000265s (repeats: 12255)\n",
      "\tC -Os: 0.0001877s (repeats: 2160)\n",
      "\tC -Ofast: 0.0000180s (repeats: 12788)\n",
      "\tC -Og: 0.0001546s (repeats: 1916)\n",
      "\tC -Oz: 0.0001858s (repeats: 1736)\n",
      "\tCython: 0.0000406s (repeats: 4917)\n",
      "Taille 10^5:\n",
      "\tPure Python: 0.2576520s (repeats: 3)\n",
      "\tMath Module: 0.0231008s (repeats: 25)\n",
      "\tNumpy: 0.0002467s (repeats: 634)\n",
      "\tNumba parallel: 0.0000858s (repeats: 3532)\n",
      "\tNumba: 0.0002540s (repeats: 1391)\n",
      "\tC -O0: 0.0016575s (repeats: 315)\n",
      "\tC -O1: 0.0002207s (repeats: 2125)\n",
      "\tC -O2: 0.0002215s (repeats: 2161)\n",
      "\tC -O3: 0.0002488s (repeats: 1957)\n",
      "\tC -Os: 0.0016574s (repeats: 314)\n",
      "\tC -Ofast: 0.0001132s (repeats: 1786)\n",
      "\tC -Og: 0.0011220s (repeats: 465)\n",
      "\tC -Oz: 0.0016192s (repeats: 315)\n",
      "\tCython: 0.0002631s (repeats: 1165)\n",
      "Taille 10^6:\n",
      "\tPure Python: 2.2481212s (repeats: 1)\n",
      "\tMath Module: 0.2417187s (repeats: 2)\n",
      "\tNumpy: 0.0057227s (repeats: 101)\n",
      "\tNumba parallel: 0.0006808s (repeats: 619)\n",
      "\tNumba: 0.0042398s (repeats: 148)\n",
      "\tC -O0: 0.0155112s (repeats: 17)\n",
      "\tC -O1: 0.0022401s (repeats: 225)\n",
      "\tC -O2: 0.0023351s (repeats: 209)\n",
      "\tC -O3: 0.0021917s (repeats: 238)\n",
      "\tC -Os: 0.0179860s (repeats: 31)\n",
      "\tC -Ofast: 0.0011763s (repeats: 406)\n",
      "\tC -Og: 0.0114584s (repeats: 44)\n",
      "\tC -Oz: 0.0172333s (repeats: 31)\n",
      "\tCython: 0.0054044s (repeats: 96)\n",
      "Taille 10^7:\n",
      "\tMath Module: 2.2590797s (repeats: 1)\n",
      "\tNumpy: 0.0566094s (repeats: 10)\n",
      "\tNumba parallel: 0.0061457s (repeats: 80)\n",
      "\tNumba: 0.0268836s (repeats: 14)\n",
      "\tC -O0: 0.1523650s (repeats: 3)\n",
      "\tC -O1: 0.0230056s (repeats: 24)\n",
      "\tC -O2: 0.0243313s (repeats: 24)\n",
      "\tC -O3: 0.0226523s (repeats: 24)\n",
      "\tC -Os: 0.1689256s (repeats: 3)\n",
      "\tC -Ofast: 0.0116238s (repeats: 43)\n",
      "\tC -Og: 0.1159190s (repeats: 5)\n",
      "\tC -Oz: 0.1669727s (repeats: 4)\n",
      "\tCython: 0.0532292s (repeats: 11)\n",
      "Taille 10^8:\n",
      "\tNumpy: 0.5425148s (repeats: 1)\n",
      "\tNumba parallel: 0.0647187s (repeats: 6)\n",
      "\tNumba: 0.2359888s (repeats: 3)\n",
      "\tC -O0: 1.5728771s (repeats: 1)\n",
      "\tC -O1: 0.2301985s (repeats: 3)\n",
      "\tC -O2: 0.2203180s (repeats: 3)\n",
      "\tC -O3: 0.2201909s (repeats: 3)\n",
      "\tC -Os: 1.6571254s (repeats: 1)\n",
      "\tC -Ofast: 0.1190946s (repeats: 5)\n",
      "\tC -Og: 1.1723031s (repeats: 1)\n",
      "\tC -Oz: 1.6006913s (repeats: 1)\n",
      "\tCython: 0.5498738s (repeats: 1)\n"
     ]
    }
   ],
   "source": [
    "print('Speed tests:')\n",
    "for i in range(1,9):\n",
    "    n = 10**i\n",
    "    np.random.seed(0)\n",
    "    x = np.random.randint(0, 2147483646, n, dtype=np.int32)\n",
    "    print(f'Taille 10^{i}:')\n",
    "    for method in all_mehods:\n",
    "        if i > 6 and method['method'] == 'Pure Python':\n",
    "            continue\n",
    "        if i > 7 and method['method'] == 'Math Module':\n",
    "            continue\n",
    "        func = method['func']\n",
    "        t = timeit.timeit(lambda: func(x), number=1)\n",
    "        if t<0.5:\n",
    "            repeat = int(0.5/t)+1\n",
    "            final_t = timeit.timeit(lambda: func(x), number=repeat)/repeat\n",
    "        else:\n",
    "            repeat = 1\n",
    "            final_t = t\n",
    "        method['times'].append(final_t)\n",
    "        print(f'\\t{method[\"method\"]}: {final_t:0.7f}s (repeats: {repeat})')"
   ]
  },
  {
   "cell_type": "code",
   "execution_count": null,
   "metadata": {},
   "outputs": [],
   "source": []
  }
 ],
 "metadata": {
  "kernelspec": {
   "display_name": "Python 3",
   "language": "python",
   "name": "python3"
  },
  "language_info": {
   "codemirror_mode": {
    "name": "ipython",
    "version": 3
   },
   "file_extension": ".py",
   "mimetype": "text/x-python",
   "name": "python",
   "nbconvert_exporter": "python",
   "pygments_lexer": "ipython3",
   "version": "3.11.4"
  },
  "orig_nbformat": 4
 },
 "nbformat": 4,
 "nbformat_minor": 2
}
