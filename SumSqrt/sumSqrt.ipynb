{
 "cells": [
  {
   "cell_type": "code",
   "execution_count": 1,
   "metadata": {},
   "outputs": [],
   "source": [
    "import numpy as np\n",
    "import timeit\n",
    "import os\n",
    "import ctypes\n",
    "import numba as nb\n",
    "import math\n"
   ]
  },
  {
   "cell_type": "code",
   "execution_count": 2,
   "metadata": {},
   "outputs": [
    {
     "data": {
      "text/plain": [
       "array([ 209652396,  398764591,  924231285, 1478610112,  441365315,\n",
       "       1537364731,  192771779, 1491434855, 1819583497,  530702035,\n",
       "        626610453, 1650906866, 1879422756, 1277901399, 1682652230,\n",
       "        243580376, 1991416408, 1171049868, 1646868794, 2051556033])"
      ]
     },
     "execution_count": 2,
     "metadata": {},
     "output_type": "execute_result"
    }
   ],
   "source": [
    "np.random.seed(0)\n",
    "x = np.random.randint(0, 2147483646, 20, dtype=np.int32)\n",
    "x"
   ]
  },
  {
   "cell_type": "code",
   "execution_count": 3,
   "metadata": {},
   "outputs": [],
   "source": [
    "all_mehods = []"
   ]
  },
  {
   "cell_type": "code",
   "execution_count": 4,
   "metadata": {},
   "outputs": [
    {
     "data": {
      "text/plain": [
       "647829.590943377"
      ]
     },
     "execution_count": 4,
     "metadata": {},
     "output_type": "execute_result"
    }
   ],
   "source": [
    "def sumSqrtPurePython(x):\n",
    "    sum = 0\n",
    "    for e in x:\n",
    "        sum += e ** 0.5\n",
    "    return sum\n",
    "\n",
    "all_mehods.append({\n",
    "    'method': 'Pure Python',\n",
    "    'func': sumSqrtPurePython,\n",
    "    'times': []\n",
    "})\n",
    "\n",
    "# quick test:\n",
    "sumSqrtPurePython(x)"
   ]
  },
  {
   "cell_type": "code",
   "execution_count": 5,
   "metadata": {},
   "outputs": [
    {
     "data": {
      "text/plain": [
       "647829.590943377"
      ]
     },
     "execution_count": 5,
     "metadata": {},
     "output_type": "execute_result"
    }
   ],
   "source": [
    "def sumSqrtMath(x):\n",
    "    sum = 0\n",
    "    for e in x:\n",
    "        sum += math.sqrt(e)\n",
    "    return sum\n",
    "\n",
    "all_mehods.append({\n",
    "    'method': 'Math Module',\n",
    "    'func': sumSqrtMath,\n",
    "    'times': []\n",
    "})\n",
    "\n",
    "# quick test:\n",
    "sumSqrtMath(x)"
   ]
  },
  {
   "cell_type": "code",
   "execution_count": 6,
   "metadata": {},
   "outputs": [
    {
     "data": {
      "text/plain": [
       "647829.5909433769"
      ]
     },
     "execution_count": 6,
     "metadata": {},
     "output_type": "execute_result"
    }
   ],
   "source": [
    "def sumSqrtNumpy(x):\n",
    "    return np.sum(np.sqrt(x))\n",
    "\n",
    "all_mehods.append({\n",
    "    'method': 'Numpy',\n",
    "    'func': sumSqrtNumpy,\n",
    "    'times': []\n",
    "})\n",
    "\n",
    "# quick test:\n",
    "sumSqrtNumpy(x)"
   ]
  },
  {
   "cell_type": "code",
   "execution_count": 7,
   "metadata": {},
   "outputs": [
    {
     "data": {
      "text/plain": [
       "647829.590943377"
      ]
     },
     "execution_count": 7,
     "metadata": {},
     "output_type": "execute_result"
    }
   ],
   "source": [
    "@nb.njit(parallel=True)\n",
    "def sumSqrtNumbaParallel(x):\n",
    "    n = len(x)\n",
    "    sum = 0\n",
    "    for i in nb.prange(n):\n",
    "        sum += x[i] ** 0.5\n",
    "    return sum\n",
    "\n",
    "all_mehods.append({\n",
    "    'method': 'Numba parallel',\n",
    "    'func': sumSqrtNumbaParallel,\n",
    "    'times': []\n",
    "})\n",
    "\n",
    "# quick test:\n",
    "sumSqrtNumbaParallel(x)"
   ]
  },
  {
   "cell_type": "code",
   "execution_count": 8,
   "metadata": {},
   "outputs": [
    {
     "data": {
      "text/plain": [
       "647829.590943377"
      ]
     },
     "execution_count": 8,
     "metadata": {},
     "output_type": "execute_result"
    }
   ],
   "source": [
    "@nb.njit\n",
    "def sumSqrtNumba(x):\n",
    "    n = len(x)\n",
    "    sum = 0\n",
    "    for i in range(n):\n",
    "        sum += x[i] ** 0.5\n",
    "    return sum\n",
    "\n",
    "all_mehods.append({\n",
    "    'method': 'Numba',\n",
    "    'func': sumSqrtNumba,\n",
    "    'times': []\n",
    "})\n",
    "\n",
    "# quick test:\n",
    "sumSqrtNumba(x)"
   ]
  },
  {
   "cell_type": "code",
   "execution_count": 9,
   "metadata": {},
   "outputs": [],
   "source": [
    "# compiled functions\n",
    "gcc_path = \"C:\\\\__APP__\\\\mingw64\\\\bin\\\\gcc\"\n",
    "current_path = os.getcwd()\n",
    "\n",
    "options = ['-O0', '-O1', '-O2', '-O3', '-Os', '-Ofast', '-Og', '-Oz']\n",
    "sum_sqrt_libs = []\n",
    "names = []\n",
    "\n",
    "compilation_times = {}\n",
    "for opt in options:\n",
    "    t = timeit.timeit(lambda: os.system(f'{gcc_path} -shared {opt} -o sumSqrt{opt}.so sumSqrt.c'), number=1)\n",
    "    if t<0.5:\n",
    "        repeat = int(0.5/t)+1\n",
    "        final_t = timeit.timeit(lambda: os.system(f'{gcc_path} -shared {opt} -o sumSqrt{opt}.so sumSqrt.c'), number=repeat)/repeat\n",
    "    else:\n",
    "        repeat = 1\n",
    "        final_t = t\n",
    "    compilation_times[opt] = final_t\n",
    "    \n",
    "    os.system(f'{gcc_path} -shared {opt} -o sumSqrt{opt}.so sumSqrt.c')\n",
    "    lib = ctypes.cdll.LoadLibrary(os.path.join(current_path, f'sumSqrt{opt}.so'))\n",
    "    lib.sumSqrtC.argtypes = (ctypes.POINTER(ctypes.c_int), ctypes.c_int)\n",
    "    lib.sumSqrtC.restype = ctypes.c_double\n",
    "    sum_sqrt_libs.append(lib)\n",
    "    names.append(f'compiled{opt}')\n",
    "\n",
    "\n",
    "def np_to_c(arr: np.ndarray) -> tuple[ctypes.POINTER(ctypes.c_int), ctypes.c_int]:\n",
    "    return arr.ctypes.data_as(ctypes.POINTER(ctypes.c_int)), ctypes.c_int(len(arr))\n",
    "\n",
    "def sumSqrtC(x, lib):\n",
    "    return lib.sumSqrtC(*np_to_c(x))\n",
    "\n",
    "all_mehods.append({\n",
    "    'method': 'C -O0',\n",
    "    'func': lambda n: sumSqrtC(n, lib=sum_sqrt_libs[0]),\n",
    "    'times': []\n",
    "})\n",
    "all_mehods.append({\n",
    "    'method': 'C -O1',\n",
    "    'func': lambda n: sumSqrtC(n, lib=sum_sqrt_libs[1]),\n",
    "    'times': []\n",
    "})\n",
    "all_mehods.append({\n",
    "    'method': 'C -O2',\n",
    "    'func': lambda n: sumSqrtC(n, lib=sum_sqrt_libs[2]),\n",
    "    'times': []\n",
    "})\n",
    "all_mehods.append({\n",
    "    'method': 'C -O3',\n",
    "    'func': lambda n: sumSqrtC(n, lib=sum_sqrt_libs[3]),\n",
    "    'times': []\n",
    "})\n",
    "all_mehods.append({\n",
    "    'method': 'C -Os',\n",
    "    'func': lambda n: sumSqrtC(n, lib=sum_sqrt_libs[4]),\n",
    "    'times': []\n",
    "})\n",
    "all_mehods.append({\n",
    "    'method': 'C -Ofast',\n",
    "    'func': lambda n: sumSqrtC(n, lib=sum_sqrt_libs[5]),\n",
    "    'times': []\n",
    "})\n",
    "all_mehods.append({\n",
    "    'method': 'C -Og',\n",
    "    'func': lambda n: sumSqrtC(n, lib=sum_sqrt_libs[6]),\n",
    "    'times': []\n",
    "})\n",
    "all_mehods.append({\n",
    "    'method': 'C -Oz',\n",
    "    'func': lambda n: sumSqrtC(n, lib=sum_sqrt_libs[7]),\n",
    "    'times': []\n",
    "})"
   ]
  },
  {
   "cell_type": "code",
   "execution_count": 10,
   "metadata": {},
   "outputs": [
    {
     "data": {
      "text/plain": [
       "{'-O0': 0.2649717499734834,\n",
       " '-O1': 0.26102375000482425,\n",
       " '-O2': 0.2702376999659464,\n",
       " '-O3': 0.2640286000096239,\n",
       " '-Os': 0.28005504998145625,\n",
       " '-Ofast': 0.29308505001245067,\n",
       " '-Og': 0.2736474499688484,\n",
       " '-Oz': 0.2710459000081755}"
      ]
     },
     "execution_count": 10,
     "metadata": {},
     "output_type": "execute_result"
    }
   ],
   "source": [
    "compilation_times"
   ]
  }
 ],
 "metadata": {
  "kernelspec": {
   "display_name": "Python 3",
   "language": "python",
   "name": "python3"
  },
  "language_info": {
   "codemirror_mode": {
    "name": "ipython",
    "version": 3
   },
   "file_extension": ".py",
   "mimetype": "text/x-python",
   "name": "python",
   "nbconvert_exporter": "python",
   "pygments_lexer": "ipython3",
   "version": "3.11.4"
  },
  "orig_nbformat": 4
 },
 "nbformat": 4,
 "nbformat_minor": 2
}
